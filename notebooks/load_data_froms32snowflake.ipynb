{
 "cells": [
  {
   "cell_type": "code",
   "execution_count": 4,
   "id": "319238c9-a02c-4c61-a91b-efe0372ae5d5",
   "metadata": {},
   "outputs": [],
   "source": [
    "#!pip install snowflake-snowpark-python\n",
    "#!pip install snowflake-ml-python"
   ]
  },
  {
   "cell_type": "code",
   "execution_count": 10,
   "id": "1a16db14-e48e-4fb0-be98-5132a92bbe29",
   "metadata": {},
   "outputs": [],
   "source": [
    "import pandas as pd\n",
    "import json\n",
    "import os\n",
    "import snowflake.snowpark.functions as F\n",
    "from snowflake.ml.utils.connection_params import SnowflakeLoginOptions\n",
    "from snowflake.snowpark import Session"
   ]
  },
  {
   "cell_type": "code",
   "execution_count": 11,
   "id": "ccda462b-df51-4f86-b353-63e7792aaabf",
   "metadata": {},
   "outputs": [],
   "source": [
    "connection_parameters = {\n",
    "    \"account\": os.getenv(\"SNOWFLAKE_ACCOUNT\"),\n",
    "    \"user\": os.getenv(\"SNOWFLAKE_USER\"),\n",
    "    \"password\": os.getenv(\"SNOWFLAKE_PASSWORD\"),\n",
    "    \"role\": os.getenv(\"SNOWFLAKE_ROLE\"),\n",
    "    \"warehouse\": os.getenv(\"SNOWFLAKE_WAREHOUSE\"),\n",
    "}\n",
    "session = Session.builder.configs(connection_parameters).create()"
   ]
  },
  {
   "cell_type": "code",
   "execution_count": 12,
   "id": "081037f2-5312-4078-babe-d28a8a9cdd50",
   "metadata": {},
   "outputs": [
    {
     "data": {
      "text/plain": [
       "[Row(status='Statement executed successfully.')]"
      ]
     },
     "execution_count": 12,
     "metadata": {},
     "output_type": "execute_result"
    }
   ],
   "source": [
    "session.sql(\"CREATE TRANSIENT  DATABASE IF NOT EXISTS THINGSBOARD;\").collect()\n",
    "session.sql(\"CREATE  TRANSIENT  SCHEMA IF NOT EXISTS THINGSBOARD.SENSOR;\").collect()\n",
    "session.sql(\"USE DATABASE THINGSBOARD\").collect()\n",
    "session.sql(\"USE SCHEMA THINGSBOARD.SENSOR\").collect()"
   ]
  },
  {
   "cell_type": "code",
   "execution_count": 7,
   "id": "6f7418ef-daec-43fd-a56f-65feffff8f8b",
   "metadata": {},
   "outputs": [
    {
     "data": {
      "text/plain": [
       "[Row(status='Table ENVIRONMENTAL successfully created.')]"
      ]
     },
     "execution_count": 7,
     "metadata": {},
     "output_type": "execute_result"
    }
   ],
   "source": [
    "session.sql(\"\"\"\n",
    "    CREATE OR REPLACE TRANSIENT TABLE THINGSBOARD.SENSOR.Environmental \n",
    "    (ts TIMESTAMP,\n",
    "     co FLOAT,\n",
    "     humidity FLOAT, \n",
    "     light BOOLEAN, \n",
    "     lpg FLOAT,\n",
    "     motion BOOLEAN, \n",
    "     smoke FLOAT, \n",
    "     temp FLOAT)\n",
    "\"\"\").collect()"
   ]
  },
  {
   "cell_type": "code",
   "execution_count": 13,
   "id": "dc5cf7e8-d403-4624-9346-34adc9160865",
   "metadata": {},
   "outputs": [
    {
     "data": {
      "text/plain": [
       "[Row(status='Table CO_TABLE_PREDICATION successfully created.')]"
      ]
     },
     "execution_count": 13,
     "metadata": {},
     "output_type": "execute_result"
    }
   ],
   "source": [
    "session.sql(\"\"\"\n",
    "    CREATE OR REPLACE TRANSIENT TABLE THINGSBOARD.SENSOR.co_table_predication \n",
    "    (ts TIMESTAMP,\n",
    "     co FLOAT)\n",
    "\"\"\").collect()"
   ]
  },
  {
   "cell_type": "code",
   "execution_count": 14,
   "id": "0e29c73b-e285-4dca-9252-dae618624086",
   "metadata": {},
   "outputs": [
    {
     "data": {
      "text/plain": [
       "[Row(status='Stage area CO_TABLE_PREDICATION successfully created.')]"
      ]
     },
     "execution_count": 14,
     "metadata": {},
     "output_type": "execute_result"
    }
   ],
   "source": [
    "\n",
    "import os\n",
    "\n",
    "aws_access_key = os.getenv('AWS_ACCESS_KEY_ID')\n",
    "aws_secret_key = os.getenv('AWS_SECRET_ACCESS_KEY')\n",
    "\n",
    "# Create stage with env variables\n",
    "session.sql(f\"\"\"\n",
    "    CREATE OR REPLACE STAGE THINGSBOARD.SENSOR.co_table_predication\n",
    "    url = 's3://fastapi-snowflake/co_table_predication.json'\n",
    "    credentials=(AWS_KEY_ID='{aws_access_key}' AWS_SECRET_KEY='{aws_secret_key}')\n",
    "    file_format = (type = 'JSON');\n",
    "\"\"\").collect()\n",
    "\n"
   ]
  },
  {
   "cell_type": "code",
   "execution_count": 9,
   "id": "097d4aa1-5cdb-4b5a-8ea7-4c485c60209f",
   "metadata": {},
   "outputs": [
    {
     "data": {
      "text/plain": [
       "[Row(number of rows inserted=220)]"
      ]
     },
     "execution_count": 9,
     "metadata": {},
     "output_type": "execute_result"
    }
   ],
   "source": [
    "session.sql(\"\"\" INSERT INTO ENVIRONMENTAL (\n",
    "    TS,\n",
    "    CO,\n",
    "    HUMIDITY,\n",
    "    LIGHT,\n",
    "    LPG,\n",
    "    MOTION,\n",
    "    SMOKE,\n",
    "    TEMP\n",
    ")\n",
    "SELECT\n",
    "    TO_TIMESTAMP(co.value:ts::bigint / 1000) AS TS,\n",
    "    co.value:value::float AS CO,\n",
    "    humidity.value:value::float AS HUMIDITY,\n",
    "    light.value:value::boolean AS LIGHT,\n",
    "    lpg.value:value::float AS LPG,\n",
    "    motion.value:value::boolean AS MOTION,\n",
    "    smoke.value:value::float AS SMOKE,\n",
    "    temp.value:value::float AS TEMP\n",
    "FROM\n",
    "    @THINGSBOARD.SENSOR.s3_stage (FILE_FORMAT => 'JSON_FORMAT') AS t,\n",
    "    LATERAL FLATTEN(input => t.$1:co) AS co,\n",
    "    LATERAL FLATTEN(input => t.$1:humidity) AS humidity,\n",
    "    LATERAL FLATTEN(input => t.$1:light) AS light,\n",
    "    LATERAL FLATTEN(input => t.$1:lpg) AS lpg,\n",
    "    LATERAL FLATTEN(input => t.$1:motion) AS motion,\n",
    "    LATERAL FLATTEN(input => t.$1:smoke) AS smoke,\n",
    "    LATERAL FLATTEN(input => t.$1:temp) AS temp\n",
    "WHERE\n",
    "    co.value:ts = humidity.value:ts AND\n",
    "    co.value:ts = light.value:ts AND\n",
    "    co.value:ts = lpg.value:ts AND\n",
    "    co.value:ts = motion.value:ts AND\n",
    "    co.value:ts = smoke.value:ts AND\n",
    "    co.value:ts = temp.value:ts;\n",
    "\n",
    "    \"\"\").collect()"
   ]
  },
  {
   "cell_type": "code",
   "execution_count": 16,
   "id": "2666d1fb-3329-42cf-b8b0-601a8f50e294",
   "metadata": {},
   "outputs": [
    {
     "data": {
      "text/plain": [
       "[Row(number of rows inserted=91)]"
      ]
     },
     "execution_count": 16,
     "metadata": {},
     "output_type": "execute_result"
    }
   ],
   "source": [
    "session.sql(\"\"\" INSERT INTO co_table_predication (\n",
    "    TS,\n",
    "    CO\n",
    ")\n",
    "SELECT\n",
    "    TO_TIMESTAMP(co.value:ts::bigint / 1000) AS TS,\n",
    "    co.value:value::float AS CO\n",
    "\n",
    "FROM\n",
    "    @THINGSBOARD.SENSOR.co_table_predication (FILE_FORMAT => 'JSON_FORMAT') AS t,\n",
    "    LATERAL FLATTEN(input => t.$1:co) AS co\n",
    "\n",
    "    \"\"\").collect()"
   ]
  },
  {
   "cell_type": "code",
   "execution_count": null,
   "id": "88846c09-58cd-4fed-b522-ed68fb249a85",
   "metadata": {},
   "outputs": [],
   "source": []
  }
 ],
 "metadata": {
  "kernelspec": {
   "display_name": "Python 3 (ipykernel)",
   "language": "python",
   "name": "python3"
  },
  "language_info": {
   "codemirror_mode": {
    "name": "ipython",
    "version": 3
   },
   "file_extension": ".py",
   "mimetype": "text/x-python",
   "name": "python",
   "nbconvert_exporter": "python",
   "pygments_lexer": "ipython3",
   "version": "3.11.10"
  }
 },
 "nbformat": 4,
 "nbformat_minor": 5
}
