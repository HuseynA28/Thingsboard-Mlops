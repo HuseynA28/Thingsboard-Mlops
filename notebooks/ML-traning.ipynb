{
 "cells": [
  {
   "cell_type": "code",
   "execution_count": 1,
   "id": "a3ad7f62-620f-4d28-82c6-31079a39cebf",
   "metadata": {},
   "outputs": [],
   "source": [
    "import snowflake.snowpark.functions as F\n",
    "from snowflake.snowpark.session import Session\n",
    "from snowflake.snowpark.types import StructType, StructField, FloatType\n",
    "from snowflake.snowpark import Session\n",
    "import os\n",
    "import json"
   ]
  },
  {
   "cell_type": "code",
   "execution_count": 2,
   "id": "9b4f72a9-1668-4e3d-84af-c3b1f21654b9",
   "metadata": {},
   "outputs": [],
   "source": [
    "connection_parameters = {\n",
    "    \"account\": os.getenv(\"SNOWFLAKE_ACCOUNT\"),\n",
    "    \"user\": os.getenv(\"SNOWFLAKE_USER\"),\n",
    "    \"password\": os.getenv(\"SNOWFLAKE_PASSWORD\"),\n",
    "    \"schema\": \"SENSOR\",\n",
    "    \"database\": \"THINGSBOARD\",\n",
    "    \"role\": os.getenv(\"SNOWFLAKE_ROLE\"),\n",
    "    \"warehouse\": os.getenv(\"SNOWFLAKE_WAREHOUSE\"),\n",
    "}\n",
    "\n",
    "session = Session.builder.configs(connection_parameters).create()"
   ]
  },
  {
   "cell_type": "code",
   "execution_count": 3,
   "id": "8b7c23ae-1509-427b-b2d7-c6e853bf30c1",
   "metadata": {},
   "outputs": [],
   "source": [
    "environmental_df = session.table(\"CO_TABLE\")"
   ]
  },
  {
   "cell_type": "code",
   "execution_count": 4,
   "id": "3feede3d-9c67-4aa0-ac73-c237f9e8bdb7",
   "metadata": {},
   "outputs": [
    {
     "name": "stdout",
     "output_type": "stream",
     "text": [
      "------------------------------\n",
      "|\"TS\"                 |\"CO\"  |\n",
      "------------------------------\n",
      "|2024-01-02 12:30:00  |5.0   |\n",
      "|2024-01-02 12:20:00  |2.7   |\n",
      "|2024-01-02 12:10:00  |5.0   |\n",
      "|2024-01-02 12:00:00  |2.8   |\n",
      "|2024-01-02 11:50:00  |5.0   |\n",
      "------------------------------\n",
      "\n"
     ]
    }
   ],
   "source": [
    "environmental_df.show(5)"
   ]
  },
  {
   "cell_type": "code",
   "execution_count": 5,
   "id": "d1c690ed-0ebb-411c-b45f-9f96c0f7f7bf",
   "metadata": {},
   "outputs": [
    {
     "name": "stdout",
     "output_type": "stream",
     "text": [
      "---------------------------------------------------------------------------------------------------\n",
      "|\"TS\"                 |\"CO\"  |\"DAY\"  |\"MONTH\"  |\"HOUR\"  |\"MINUTE\"  |\"DAY_OF_WEEK\"  |\"IS_WEEKEND\"  |\n",
      "---------------------------------------------------------------------------------------------------\n",
      "|2024-01-02 12:30:00  |5.0   |2      |1        |12      |30        |2              |False         |\n",
      "|2024-01-02 12:20:00  |2.7   |2      |1        |12      |20        |2              |False         |\n",
      "|2024-01-02 12:10:00  |5.0   |2      |1        |12      |10        |2              |False         |\n",
      "|2024-01-02 12:00:00  |2.8   |2      |1        |12      |0         |2              |False         |\n",
      "|2024-01-02 11:50:00  |5.0   |2      |1        |11      |50        |2              |False         |\n",
      "---------------------------------------------------------------------------------------------------\n",
      "\n"
     ]
    }
   ],
   "source": [
    "from snowflake.snowpark.functions import col, date_part, dayofweek, iff\n",
    "\n",
    "\n",
    "# Add time features to existing DataFrame \n",
    "environmental_df = environmental_df.withColumn('day', date_part('day', col('TS'))) \\\n",
    "    .withColumn('month', date_part('month', col('TS'))) \\\n",
    "    .withColumn('hour', date_part('hour', col('TS'))) \\\n",
    "    .withColumn('minute', date_part('minute', col('TS'))) \\\n",
    "    .withColumn('day_of_week', dayofweek(col('TS'))) \\\n",
    "    .withColumn('is_weekend', iff(dayofweek(col('TS')).isin([6, 7]), True, False))\n",
    "\n",
    "environmental_df.show(5)"
   ]
  },
  {
   "cell_type": "code",
   "execution_count": 6,
   "id": "2386459c-dff6-44d7-a6e0-87582ac81b51",
   "metadata": {},
   "outputs": [],
   "source": [
    "environmental_df=environmental_df.drop(\"TS\")"
   ]
  },
  {
   "cell_type": "code",
   "execution_count": 7,
   "id": "7419eae3-b536-46a1-9d80-fb3290c28a6a",
   "metadata": {},
   "outputs": [
    {
     "name": "stdout",
     "output_type": "stream",
     "text": [
      "-----------------------------------------------------------------------------\n",
      "|\"CO\"  |\"DAY\"  |\"MONTH\"  |\"HOUR\"  |\"MINUTE\"  |\"DAY_OF_WEEK\"  |\"IS_WEEKEND\"  |\n",
      "-----------------------------------------------------------------------------\n",
      "|5.0   |2      |1        |12      |30        |2              |False         |\n",
      "|2.7   |2      |1        |12      |20        |2              |False         |\n",
      "|5.0   |2      |1        |12      |10        |2              |False         |\n",
      "|2.8   |2      |1        |12      |0         |2              |False         |\n",
      "|5.0   |2      |1        |11      |50        |2              |False         |\n",
      "-----------------------------------------------------------------------------\n",
      "\n"
     ]
    }
   ],
   "source": [
    "environmental_df.show(5)"
   ]
  },
  {
   "cell_type": "code",
   "execution_count": 8,
   "id": "09929848-09c4-436d-ac1f-c4780122233d",
   "metadata": {},
   "outputs": [],
   "source": [
    "pandas_df =environmental_df.toPandas()"
   ]
  },
  {
   "cell_type": "code",
   "execution_count": 9,
   "id": "16cd0fbc-4cec-48fa-9582-663f25d4332a",
   "metadata": {},
   "outputs": [
    {
     "data": {
      "text/html": [
       "<div>\n",
       "<style scoped>\n",
       "    .dataframe tbody tr th:only-of-type {\n",
       "        vertical-align: middle;\n",
       "    }\n",
       "\n",
       "    .dataframe tbody tr th {\n",
       "        vertical-align: top;\n",
       "    }\n",
       "\n",
       "    .dataframe thead th {\n",
       "        text-align: right;\n",
       "    }\n",
       "</style>\n",
       "<table border=\"1\" class=\"dataframe\">\n",
       "  <thead>\n",
       "    <tr style=\"text-align: right;\">\n",
       "      <th></th>\n",
       "      <th>CO</th>\n",
       "      <th>DAY</th>\n",
       "      <th>MONTH</th>\n",
       "      <th>HOUR</th>\n",
       "      <th>MINUTE</th>\n",
       "      <th>DAY_OF_WEEK</th>\n",
       "      <th>IS_WEEKEND</th>\n",
       "    </tr>\n",
       "  </thead>\n",
       "  <tbody>\n",
       "    <tr>\n",
       "      <th>0</th>\n",
       "      <td>5.0</td>\n",
       "      <td>2</td>\n",
       "      <td>1</td>\n",
       "      <td>12</td>\n",
       "      <td>30</td>\n",
       "      <td>2</td>\n",
       "      <td>False</td>\n",
       "    </tr>\n",
       "    <tr>\n",
       "      <th>1</th>\n",
       "      <td>2.7</td>\n",
       "      <td>2</td>\n",
       "      <td>1</td>\n",
       "      <td>12</td>\n",
       "      <td>20</td>\n",
       "      <td>2</td>\n",
       "      <td>False</td>\n",
       "    </tr>\n",
       "    <tr>\n",
       "      <th>2</th>\n",
       "      <td>5.0</td>\n",
       "      <td>2</td>\n",
       "      <td>1</td>\n",
       "      <td>12</td>\n",
       "      <td>10</td>\n",
       "      <td>2</td>\n",
       "      <td>False</td>\n",
       "    </tr>\n",
       "    <tr>\n",
       "      <th>3</th>\n",
       "      <td>2.8</td>\n",
       "      <td>2</td>\n",
       "      <td>1</td>\n",
       "      <td>12</td>\n",
       "      <td>0</td>\n",
       "      <td>2</td>\n",
       "      <td>False</td>\n",
       "    </tr>\n",
       "    <tr>\n",
       "      <th>4</th>\n",
       "      <td>5.0</td>\n",
       "      <td>2</td>\n",
       "      <td>1</td>\n",
       "      <td>11</td>\n",
       "      <td>50</td>\n",
       "      <td>2</td>\n",
       "      <td>False</td>\n",
       "    </tr>\n",
       "  </tbody>\n",
       "</table>\n",
       "</div>"
      ],
      "text/plain": [
       "    CO  DAY  MONTH  HOUR  MINUTE  DAY_OF_WEEK  IS_WEEKEND\n",
       "0  5.0    2      1    12      30            2       False\n",
       "1  2.7    2      1    12      20            2       False\n",
       "2  5.0    2      1    12      10            2       False\n",
       "3  2.8    2      1    12       0            2       False\n",
       "4  5.0    2      1    11      50            2       False"
      ]
     },
     "execution_count": 9,
     "metadata": {},
     "output_type": "execute_result"
    }
   ],
   "source": [
    "pandas_df.head()"
   ]
  },
  {
   "cell_type": "code",
   "execution_count": 10,
   "id": "c5435990-5d97-4e22-8651-0cd9a40b2ac3",
   "metadata": {},
   "outputs": [
    {
     "data": {
      "text/html": [
       "<div>\n",
       "<style scoped>\n",
       "    .dataframe tbody tr th:only-of-type {\n",
       "        vertical-align: middle;\n",
       "    }\n",
       "\n",
       "    .dataframe tbody tr th {\n",
       "        vertical-align: top;\n",
       "    }\n",
       "\n",
       "    .dataframe thead th {\n",
       "        text-align: right;\n",
       "    }\n",
       "</style>\n",
       "<table border=\"1\" class=\"dataframe\">\n",
       "  <thead>\n",
       "    <tr style=\"text-align: right;\">\n",
       "      <th></th>\n",
       "      <th>CO</th>\n",
       "      <th>DAY</th>\n",
       "      <th>MONTH</th>\n",
       "      <th>HOUR</th>\n",
       "      <th>MINUTE</th>\n",
       "      <th>DAY_OF_WEEK</th>\n",
       "      <th>IS_WEEKEND</th>\n",
       "    </tr>\n",
       "  </thead>\n",
       "  <tbody>\n",
       "    <tr>\n",
       "      <th>CO</th>\n",
       "      <td>1.000000</td>\n",
       "      <td>0.000135</td>\n",
       "      <td>NaN</td>\n",
       "      <td>-0.057483</td>\n",
       "      <td>-0.090240</td>\n",
       "      <td>0.000135</td>\n",
       "      <td>NaN</td>\n",
       "    </tr>\n",
       "    <tr>\n",
       "      <th>DAY</th>\n",
       "      <td>0.000135</td>\n",
       "      <td>1.000000</td>\n",
       "      <td>NaN</td>\n",
       "      <td>-0.409194</td>\n",
       "      <td>-0.014686</td>\n",
       "      <td>1.000000</td>\n",
       "      <td>NaN</td>\n",
       "    </tr>\n",
       "    <tr>\n",
       "      <th>MONTH</th>\n",
       "      <td>NaN</td>\n",
       "      <td>NaN</td>\n",
       "      <td>NaN</td>\n",
       "      <td>NaN</td>\n",
       "      <td>NaN</td>\n",
       "      <td>NaN</td>\n",
       "      <td>NaN</td>\n",
       "    </tr>\n",
       "    <tr>\n",
       "      <th>HOUR</th>\n",
       "      <td>-0.057483</td>\n",
       "      <td>-0.409194</td>\n",
       "      <td>NaN</td>\n",
       "      <td>1.000000</td>\n",
       "      <td>-0.003983</td>\n",
       "      <td>-0.409194</td>\n",
       "      <td>NaN</td>\n",
       "    </tr>\n",
       "    <tr>\n",
       "      <th>MINUTE</th>\n",
       "      <td>-0.090240</td>\n",
       "      <td>-0.014686</td>\n",
       "      <td>NaN</td>\n",
       "      <td>-0.003983</td>\n",
       "      <td>1.000000</td>\n",
       "      <td>-0.014686</td>\n",
       "      <td>NaN</td>\n",
       "    </tr>\n",
       "    <tr>\n",
       "      <th>DAY_OF_WEEK</th>\n",
       "      <td>0.000135</td>\n",
       "      <td>1.000000</td>\n",
       "      <td>NaN</td>\n",
       "      <td>-0.409194</td>\n",
       "      <td>-0.014686</td>\n",
       "      <td>1.000000</td>\n",
       "      <td>NaN</td>\n",
       "    </tr>\n",
       "    <tr>\n",
       "      <th>IS_WEEKEND</th>\n",
       "      <td>NaN</td>\n",
       "      <td>NaN</td>\n",
       "      <td>NaN</td>\n",
       "      <td>NaN</td>\n",
       "      <td>NaN</td>\n",
       "      <td>NaN</td>\n",
       "      <td>NaN</td>\n",
       "    </tr>\n",
       "  </tbody>\n",
       "</table>\n",
       "</div>"
      ],
      "text/plain": [
       "                   CO       DAY  MONTH      HOUR    MINUTE  DAY_OF_WEEK  \\\n",
       "CO           1.000000  0.000135    NaN -0.057483 -0.090240     0.000135   \n",
       "DAY          0.000135  1.000000    NaN -0.409194 -0.014686     1.000000   \n",
       "MONTH             NaN       NaN    NaN       NaN       NaN          NaN   \n",
       "HOUR        -0.057483 -0.409194    NaN  1.000000 -0.003983    -0.409194   \n",
       "MINUTE      -0.090240 -0.014686    NaN -0.003983  1.000000    -0.014686   \n",
       "DAY_OF_WEEK  0.000135  1.000000    NaN -0.409194 -0.014686     1.000000   \n",
       "IS_WEEKEND        NaN       NaN    NaN       NaN       NaN          NaN   \n",
       "\n",
       "             IS_WEEKEND  \n",
       "CO                  NaN  \n",
       "DAY                 NaN  \n",
       "MONTH               NaN  \n",
       "HOUR                NaN  \n",
       "MINUTE              NaN  \n",
       "DAY_OF_WEEK         NaN  \n",
       "IS_WEEKEND          NaN  "
      ]
     },
     "execution_count": 10,
     "metadata": {},
     "output_type": "execute_result"
    }
   ],
   "source": [
    "pandas_df.corr()"
   ]
  },
  {
   "cell_type": "code",
   "execution_count": null,
   "id": "07203b77-e155-45df-9208-52d68e2e3f19",
   "metadata": {},
   "outputs": [],
   "source": [
    "#####  Tranining DEEP Learning"
   ]
  },
  {
   "cell_type": "code",
   "execution_count": 19,
   "id": "7f548d8d-ba6c-44cd-8da6-e33749398688",
   "metadata": {},
   "outputs": [],
   "source": [
    "#!!pip install --upgrade pip\n",
    "#!pip install tensorflow\n",
    "#!pip install mlflow\n"
   ]
  },
  {
   "cell_type": "code",
   "execution_count": 12,
   "id": "d33471c9-a3f4-4f23-bf82-8404dc796455",
   "metadata": {},
   "outputs": [
    {
     "ename": "ModuleNotFoundError",
     "evalue": "No module named 'tensorflow'",
     "output_type": "error",
     "traceback": [
      "\u001b[0;31m---------------------------------------------------------------------------\u001b[0m",
      "\u001b[0;31mModuleNotFoundError\u001b[0m                       Traceback (most recent call last)",
      "Cell \u001b[0;32mIn[12], line 7\u001b[0m\n\u001b[1;32m      5\u001b[0m \u001b[38;5;28;01mfrom\u001b[39;00m \u001b[38;5;21;01msklearn\u001b[39;00m\u001b[38;5;21;01m.\u001b[39;00m\u001b[38;5;21;01mensemble\u001b[39;00m \u001b[38;5;28;01mimport\u001b[39;00m RandomForestRegressor\n\u001b[1;32m      6\u001b[0m \u001b[38;5;28;01mfrom\u001b[39;00m \u001b[38;5;21;01msklearn\u001b[39;00m\u001b[38;5;21;01m.\u001b[39;00m\u001b[38;5;21;01mmetrics\u001b[39;00m \u001b[38;5;28;01mimport\u001b[39;00m mean_squared_error, r2_score\n\u001b[0;32m----> 7\u001b[0m \u001b[38;5;28;01mimport\u001b[39;00m \u001b[38;5;21;01mtensorflow\u001b[39;00m \u001b[38;5;28;01mas\u001b[39;00m \u001b[38;5;21;01mtf\u001b[39;00m\n\u001b[1;32m      8\u001b[0m \u001b[38;5;28;01mfrom\u001b[39;00m \u001b[38;5;21;01mtensorflow\u001b[39;00m\u001b[38;5;21;01m.\u001b[39;00m\u001b[38;5;21;01mkeras\u001b[39;00m\u001b[38;5;21;01m.\u001b[39;00m\u001b[38;5;21;01mmodels\u001b[39;00m \u001b[38;5;28;01mimport\u001b[39;00m Sequential\n\u001b[1;32m      9\u001b[0m \u001b[38;5;28;01mfrom\u001b[39;00m \u001b[38;5;21;01mtensorflow\u001b[39;00m\u001b[38;5;21;01m.\u001b[39;00m\u001b[38;5;21;01mkeras\u001b[39;00m\u001b[38;5;21;01m.\u001b[39;00m\u001b[38;5;21;01mlayers\u001b[39;00m \u001b[38;5;28;01mimport\u001b[39;00m Dense\n",
      "\u001b[0;31mModuleNotFoundError\u001b[0m: No module named 'tensorflow'"
     ]
    }
   ],
   "source": [
    "import pandas as pd\n",
    "import numpy as np\n",
    "from sklearn.model_selection import train_test_split\n",
    "from sklearn.preprocessing import StandardScaler\n",
    "from sklearn.ensemble import RandomForestRegressor\n",
    "from sklearn.metrics import mean_squared_error, r2_score\n",
    "import tensorflow as tf\n",
    "from tensorflow.keras.models import Sequential\n",
    "from tensorflow.keras.layers import Dense\n",
    "import mlflow\n",
    "import mlflow.sklearn\n",
    "import mlflow.tensorflow"
   ]
  },
  {
   "cell_type": "code",
   "execution_count": 11,
   "id": "556e1e57-3642-4259-a52f-ea9d32cb57c9",
   "metadata": {},
   "outputs": [
    {
     "ename": "NameError",
     "evalue": "name 'mlflow' is not defined",
     "output_type": "error",
     "traceback": [
      "\u001b[0;31m---------------------------------------------------------------------------\u001b[0m",
      "\u001b[0;31mNameError\u001b[0m                                 Traceback (most recent call last)",
      "Cell \u001b[0;32mIn[11], line 1\u001b[0m\n\u001b[0;32m----> 1\u001b[0m \u001b[43mmlflow\u001b[49m\u001b[38;5;241m.\u001b[39mset_tracking_uri(\u001b[38;5;124m\"\u001b[39m\u001b[38;5;124mhttps://musical-spork-xp9vpjwpjvp36xgx-5000.app.github.dev/\u001b[39m\u001b[38;5;124m\"\u001b[39m)\n\u001b[1;32m      2\u001b[0m mlflow\u001b[38;5;241m.\u001b[39mcreate_experiment(\u001b[38;5;124m\"\u001b[39m\u001b[38;5;124mCO_Experiment\u001b[39m\u001b[38;5;124m\"\u001b[39m)\n\u001b[1;32m      3\u001b[0m mlflow\u001b[38;5;241m.\u001b[39mset_experiment(\u001b[38;5;124m\"\u001b[39m\u001b[38;5;124mCO_Experiment\u001b[39m\u001b[38;5;124m\"\u001b[39m)\n",
      "\u001b[0;31mNameError\u001b[0m: name 'mlflow' is not defined"
     ]
    }
   ],
   "source": [
    "mlflow.set_tracking_uri(\"https://musical-spork-xp9vpjwpjvp36xgx-5000.app.github.dev/\")\n",
    "mlflow.create_experiment(\"CO_Experiment\")\n",
    "mlflow.set_experiment(\"CO_Experiment\")"
   ]
  },
  {
   "cell_type": "code",
   "execution_count": 79,
   "id": "b81307e9-da57-4c89-9f74-f24f7ceec688",
   "metadata": {},
   "outputs": [],
   "source": [
    "def prepare_data(pandas_df):\n",
    "    X = pandas_df.drop(columns=['CO'])\n",
    "    y = pandas_df['CO']\n",
    "    X_train, X_test, y_train, y_test = train_test_split(X, y, test_size=0.2, random_state=42)\n",
    "    scaler = StandardScaler()\n",
    "    X_train_scaled = scaler.fit_transform(X_train)\n",
    "    X_test_scaled = scaler.transform(X_test)\n",
    "    return X_train_scaled, X_test_scaled, y_train, y_test\n",
    "X_train_scaled, X_test_scaled, y_train, y_test = prepare_data(pandas_df)\n"
   ]
  },
  {
   "cell_type": "code",
   "execution_count": 80,
   "id": "e3e45847-c2be-40e1-9389-940e01875cee",
   "metadata": {},
   "outputs": [
    {
     "data": {
      "text/plain": [
       "array([ 0.88277033, -0.5860985 ,  0.        , -1.25865385, -0.75592895,\n",
       "        0.        ,  0.55978854,  0.90656749, -0.75592895,  0.        ])"
      ]
     },
     "execution_count": 80,
     "metadata": {},
     "output_type": "execute_result"
    }
   ],
   "source": [
    "X_train_scaled[10]"
   ]
  },
  {
   "cell_type": "code",
   "execution_count": 81,
   "id": "9409dfbb-3747-4a1c-a0d4-d65693ed35f1",
   "metadata": {},
   "outputs": [],
   "source": [
    "def train_dl(X_train, X_test, y_train, y_test):\n",
    "    with mlflow.start_run(run_name=\"deep_learning\"):\n",
    "        model = Sequential([\n",
    "            Dense(64, activation='relu', input_shape=(X_train.shape[1],)),\n",
    "            Dense(32, activation='relu'),\n",
    "            Dense(1)\n",
    "        ])\n",
    "        model.compile(optimizer='adam', loss='mse')\n",
    "        history = model.fit(\n",
    "            X_train, y_train,\n",
    "            epochs=50,\n",
    "            batch_size=32,\n",
    "            validation_split=0.2,\n",
    "            verbose=0\n",
    "        )\n",
    "        y_pred = model.predict(X_test)\n",
    "        mse = mean_squared_error(y_test, y_pred)\n",
    "        r2 = r2_score(y_test, y_pred)\n",
    "        mlflow.log_param(\"epochs\", 50)\n",
    "        mlflow.log_param(\"batch_size\", 32)\n",
    "        mlflow.log_metric(\"mse\", mse)\n",
    "        mlflow.log_metric(\"r2\", r2)\n",
    "        mlflow.tensorflow.log_model(model, \"deep_learning_model\")\n",
    "        return model, mse, r2\n"
   ]
  },
  {
   "cell_type": "code",
   "execution_count": 82,
   "id": "d88c836c-f91f-4716-8a00-c3d83eaf61bb",
   "metadata": {},
   "outputs": [
    {
     "name": "stderr",
     "output_type": "stream",
     "text": [
      "/usr/local/lib/python3.11/site-packages/keras/src/layers/core/dense.py:87: UserWarning: Do not pass an `input_shape`/`input_dim` argument to a layer. When using Sequential models, prefer using an `Input(shape)` object as the first layer in the model instead.\n",
      "  super().__init__(activity_regularizer=activity_regularizer, **kwargs)\n"
     ]
    },
    {
     "name": "stdout",
     "output_type": "stream",
     "text": [
      "\u001b[1m2/2\u001b[0m \u001b[32m━━━━━━━━━━━━━━━━━━━━\u001b[0m\u001b[37m\u001b[0m \u001b[1m0s\u001b[0m 21ms/step\n"
     ]
    },
    {
     "name": "stderr",
     "output_type": "stream",
     "text": [
      "2024/11/20 15:07:01 WARNING mlflow.tensorflow: You are saving a TensorFlow Core model or Keras model without a signature. Inference with mlflow.pyfunc.spark_udf() will not work unless the model's pyfunc representation accepts pandas DataFrames as inference inputs.\n",
      "2024/11/20 15:07:04 WARNING mlflow.models.model: Model logged without a signature and input example. Please set `input_example` parameter when logging the model to auto infer the model signature.\n"
     ]
    },
    {
     "name": "stdout",
     "output_type": "stream",
     "text": [
      "🏃 View run deep_learning at: https://musical-spork-xp9vpjwpjvp36xgx-5000.app.github.dev/#/experiments/6/runs/a0eb1704442a46f6b5aaaba32b925aec\n",
      "🧪 View experiment at: https://musical-spork-xp9vpjwpjvp36xgx-5000.app.github.dev/#/experiments/6\n",
      "Deep Learning - MSE: 0.0490, R2: 0.9435\n"
     ]
    }
   ],
   "source": [
    "dl_model, dl_mse, dl_r2 = train_dl(X_train_scaled, X_test_scaled, y_train, y_test)\n",
    "print(f\"Deep Learning - MSE: {dl_mse:.4f}, R2: {dl_r2:.4f}\")"
   ]
  },
  {
   "cell_type": "code",
   "execution_count": null,
   "id": "bdb91db8-0e8a-4e22-9488-9fe14bb99b80",
   "metadata": {},
   "outputs": [],
   "source": [
    "###  Tree model Traning"
   ]
  },
  {
   "cell_type": "code",
   "execution_count": 83,
   "id": "4a3a6fe5-8580-4a84-952b-01520d7c7304",
   "metadata": {},
   "outputs": [],
   "source": [
    "def train_rf(X_train, X_test, y_train, y_test):\n",
    "    with mlflow.start_run(run_name=\"random_forest\"):\n",
    "        rf = RandomForestRegressor(n_estimators=100, random_state=42)\n",
    "        rf.fit(X_train, y_train)\n",
    "        \n",
    "        # Make predictions and calculate metrics\n",
    "        y_pred = rf.predict(X_test)\n",
    "        mse = mean_squared_error(y_test, y_pred)\n",
    "        r2 = r2_score(y_test, y_pred)\n",
    "        \n",
    "        # Log parameters and metrics\n",
    "        mlflow.log_param(\"n_estimators\", 100)\n",
    "        mlflow.log_metric(\"mse\", mse)\n",
    "        mlflow.log_metric(\"r2\", r2)\n",
    "        \n",
    "        # Log model\n",
    "        mlflow.sklearn.log_model(rf, \"random_forest_model\")\n",
    "        \n",
    "        return rf, mse, r2\n"
   ]
  },
  {
   "cell_type": "code",
   "execution_count": 84,
   "id": "f00e3912-9e8d-4452-bf60-d3ed34ef6048",
   "metadata": {},
   "outputs": [
    {
     "name": "stderr",
     "output_type": "stream",
     "text": [
      "2024/11/20 15:07:13 WARNING mlflow.models.model: Model logged without a signature and input example. Please set `input_example` parameter when logging the model to auto infer the model signature.\n"
     ]
    },
    {
     "name": "stdout",
     "output_type": "stream",
     "text": [
      "🏃 View run random_forest at: https://musical-spork-xp9vpjwpjvp36xgx-5000.app.github.dev/#/experiments/6/runs/fc28e9a64b4a418e9b50603cb6fc8a2f\n",
      "🧪 View experiment at: https://musical-spork-xp9vpjwpjvp36xgx-5000.app.github.dev/#/experiments/6\n",
      "Random Forest - MSE: 0.0027, R2: 0.9969\n"
     ]
    }
   ],
   "source": [
    "rf_model, rf_mse, rf_r2 = train_rf(X_train_scaled, X_test_scaled, y_train, y_test)\n",
    "print(f\"Random Forest - MSE: {rf_mse:.4f}, R2: {rf_r2:.4f}\")"
   ]
  }
 ],
 "metadata": {
  "kernelspec": {
   "display_name": "Python 3 (ipykernel)",
   "language": "python",
   "name": "python3"
  },
  "language_info": {
   "codemirror_mode": {
    "name": "ipython",
    "version": 3
   },
   "file_extension": ".py",
   "mimetype": "text/x-python",
   "name": "python",
   "nbconvert_exporter": "python",
   "pygments_lexer": "ipython3",
   "version": "3.11.10"
  }
 },
 "nbformat": 4,
 "nbformat_minor": 5
}
