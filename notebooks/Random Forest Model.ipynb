{
 "cells": [
  {
   "cell_type": "code",
   "execution_count": 1,
   "id": "3787ca3d-ab06-4ae2-9522-88c4ebc69175",
   "metadata": {},
   "outputs": [],
   "source": [
    "# !pip install -r requirements.txt"
   ]
  },
  {
   "cell_type": "code",
   "execution_count": 22,
   "id": "bd51f6ec-fc44-4833-9e55-7e702819b0be",
   "metadata": {},
   "outputs": [],
   "source": [
    "import snowflake.snowpark.functions as F\n",
    "from snowflake.snowpark.session import Session\n",
    "from snowflake.snowpark.types import StructType, StructField, FloatType\n",
    "from snowflake.snowpark import Session\n",
    "import os\n",
    "import json\n",
    "import pandas as pd\n",
    "import numpy as np"
   ]
  },
  {
   "cell_type": "code",
   "execution_count": 29,
   "id": "82f78958-071f-4a1b-9a1c-e889d0b5b14b",
   "metadata": {},
   "outputs": [],
   "source": [
    "import pandas as pd\n",
    "import numpy as np\n",
    "from sklearn.model_selection import TimeSeriesSplit, GridSearchCV\n",
    "from sklearn.ensemble import RandomForestRegressor\n",
    "from sklearn.metrics import mean_absolute_error, mean_squared_error\n",
    "import joblib\n",
    "import mlflow\n",
    "import mlflow.sklearn\n",
    "import mlflow.xgboost\n",
    "import xgboost as xgb"
   ]
  },
  {
   "cell_type": "code",
   "execution_count": 30,
   "id": "c9909df2-d501-4ea9-97d0-e397383aa2f0",
   "metadata": {},
   "outputs": [],
   "source": [
    "connection_parameters = {\n",
    "    \"account\": os.getenv(\"SNOWFLAKE_ACCOUNT\"),\n",
    "    \"user\": os.getenv(\"SNOWFLAKE_USER\"),\n",
    "    \"password\": os.getenv(\"SNOWFLAKE_PASSWORD\"),\n",
    "    \"schema\": \"SENSOR\",\n",
    "    \"database\": \"THINGSBOARD\",\n",
    "    \"role\": os.getenv(\"SNOWFLAKE_ROLE\"),\n",
    "    \"warehouse\": os.getenv(\"SNOWFLAKE_WAREHOUSE\"),\n",
    "}\n",
    "\n",
    "session = Session.builder.configs(connection_parameters).create()"
   ]
  },
  {
   "cell_type": "code",
   "execution_count": 31,
   "id": "74cdd959-9d10-4a3b-9717-40c939818758",
   "metadata": {},
   "outputs": [],
   "source": [
    "co_df = session.table(\"co_table_predication\")"
   ]
  },
  {
   "cell_type": "code",
   "execution_count": 32,
   "id": "b97170fa-8418-46a5-9771-81d9b3dbf17f",
   "metadata": {},
   "outputs": [
    {
     "name": "stdout",
     "output_type": "stream",
     "text": [
      "--------------------------------------------\n",
      "|\"TS\"                 |\"CO\"                |\n",
      "--------------------------------------------\n",
      "|2024-01-01 12:00:00  |4.379166666666667   |\n",
      "|2024-01-02 12:00:00  |4.270833333333335   |\n",
      "|2024-01-03 12:00:00  |4.179166666666668   |\n",
      "|2024-01-04 12:00:00  |4.2250000000000005  |\n",
      "|2024-01-05 12:00:00  |4.175               |\n",
      "--------------------------------------------\n",
      "\n"
     ]
    }
   ],
   "source": [
    "co_df.show(5)"
   ]
  },
  {
   "cell_type": "code",
   "execution_count": 33,
   "id": "183e3e71-c237-45df-9f61-222ecbf7f2de",
   "metadata": {},
   "outputs": [
    {
     "name": "stdout",
     "output_type": "stream",
     "text": [
      "------------------------------------------------------------------------------\n",
      "|\"TS\"                 |\"CO\"                |\"DAY\"  |\"MONTH\"  |\"DAY_OF_WEEK\"  |\n",
      "------------------------------------------------------------------------------\n",
      "|2024-01-01 12:00:00  |4.379166666666667   |1      |1        |1              |\n",
      "|2024-01-02 12:00:00  |4.270833333333335   |2      |1        |2              |\n",
      "|2024-01-03 12:00:00  |4.179166666666668   |3      |1        |3              |\n",
      "|2024-01-04 12:00:00  |4.2250000000000005  |4      |1        |4              |\n",
      "|2024-01-05 12:00:00  |4.175               |5      |1        |5              |\n",
      "------------------------------------------------------------------------------\n",
      "\n"
     ]
    }
   ],
   "source": [
    "from snowflake.snowpark.functions import col, date_part, dayofweek, iff\n",
    "\n",
    "\n",
    "# Add time features to existing DataFrame \n",
    "co_df = co_df.withColumn('day', date_part('day', col('TS'))) \\\n",
    "    .withColumn('month', date_part('month', col('TS'))) \\\n",
    "    .withColumn('day_of_week', dayofweek(col('TS'))) \n",
    "\n",
    "co_df.show(5)"
   ]
  },
  {
   "cell_type": "code",
   "execution_count": 34,
   "id": "a11226dc-58f7-4623-ae5b-01c1986c39f6",
   "metadata": {},
   "outputs": [],
   "source": [
    "df =co_df.toPandas()"
   ]
  },
  {
   "cell_type": "code",
   "execution_count": 35,
   "id": "ce6b7afb-13fa-484c-9d91-7a4f8a804d96",
   "metadata": {},
   "outputs": [
    {
     "data": {
      "text/html": [
       "<div>\n",
       "<style scoped>\n",
       "    .dataframe tbody tr th:only-of-type {\n",
       "        vertical-align: middle;\n",
       "    }\n",
       "\n",
       "    .dataframe tbody tr th {\n",
       "        vertical-align: top;\n",
       "    }\n",
       "\n",
       "    .dataframe thead th {\n",
       "        text-align: right;\n",
       "    }\n",
       "</style>\n",
       "<table border=\"1\" class=\"dataframe\">\n",
       "  <thead>\n",
       "    <tr style=\"text-align: right;\">\n",
       "      <th></th>\n",
       "      <th>TS</th>\n",
       "      <th>CO</th>\n",
       "      <th>DAY</th>\n",
       "      <th>MONTH</th>\n",
       "      <th>DAY_OF_WEEK</th>\n",
       "    </tr>\n",
       "  </thead>\n",
       "  <tbody>\n",
       "    <tr>\n",
       "      <th>0</th>\n",
       "      <td>2024-01-01 12:00:00</td>\n",
       "      <td>4.379167</td>\n",
       "      <td>1</td>\n",
       "      <td>1</td>\n",
       "      <td>1</td>\n",
       "    </tr>\n",
       "    <tr>\n",
       "      <th>1</th>\n",
       "      <td>2024-01-02 12:00:00</td>\n",
       "      <td>4.270833</td>\n",
       "      <td>2</td>\n",
       "      <td>1</td>\n",
       "      <td>2</td>\n",
       "    </tr>\n",
       "    <tr>\n",
       "      <th>2</th>\n",
       "      <td>2024-01-03 12:00:00</td>\n",
       "      <td>4.179167</td>\n",
       "      <td>3</td>\n",
       "      <td>1</td>\n",
       "      <td>3</td>\n",
       "    </tr>\n",
       "    <tr>\n",
       "      <th>3</th>\n",
       "      <td>2024-01-04 12:00:00</td>\n",
       "      <td>4.225000</td>\n",
       "      <td>4</td>\n",
       "      <td>1</td>\n",
       "      <td>4</td>\n",
       "    </tr>\n",
       "    <tr>\n",
       "      <th>4</th>\n",
       "      <td>2024-01-05 12:00:00</td>\n",
       "      <td>4.175000</td>\n",
       "      <td>5</td>\n",
       "      <td>1</td>\n",
       "      <td>5</td>\n",
       "    </tr>\n",
       "  </tbody>\n",
       "</table>\n",
       "</div>"
      ],
      "text/plain": [
       "                   TS        CO  DAY  MONTH  DAY_OF_WEEK\n",
       "0 2024-01-01 12:00:00  4.379167    1      1            1\n",
       "1 2024-01-02 12:00:00  4.270833    2      1            2\n",
       "2 2024-01-03 12:00:00  4.179167    3      1            3\n",
       "3 2024-01-04 12:00:00  4.225000    4      1            4\n",
       "4 2024-01-05 12:00:00  4.175000    5      1            5"
      ]
     },
     "execution_count": 35,
     "metadata": {},
     "output_type": "execute_result"
    }
   ],
   "source": [
    "df.head()"
   ]
  },
  {
   "cell_type": "code",
   "execution_count": 41,
   "id": "c466330e-3ed1-4ec5-bbf2-c0fb5145eb79",
   "metadata": {},
   "outputs": [],
   "source": [
    "df = df.sort_values('TS').reset_index(drop=True)"
   ]
  },
  {
   "cell_type": "code",
   "execution_count": 43,
   "id": "2045724f-6aa1-4b19-8e0a-a14272f1cae9",
   "metadata": {},
   "outputs": [],
   "source": [
    "df.drop(\"TS\",axis=1, inplace=True)"
   ]
  },
  {
   "cell_type": "code",
   "execution_count": 44,
   "id": "f05ed115-934d-4e08-8cf5-649a8376334b",
   "metadata": {},
   "outputs": [
    {
     "data": {
      "text/html": [
       "<div>\n",
       "<style scoped>\n",
       "    .dataframe tbody tr th:only-of-type {\n",
       "        vertical-align: middle;\n",
       "    }\n",
       "\n",
       "    .dataframe tbody tr th {\n",
       "        vertical-align: top;\n",
       "    }\n",
       "\n",
       "    .dataframe thead th {\n",
       "        text-align: right;\n",
       "    }\n",
       "</style>\n",
       "<table border=\"1\" class=\"dataframe\">\n",
       "  <thead>\n",
       "    <tr style=\"text-align: right;\">\n",
       "      <th></th>\n",
       "      <th>CO</th>\n",
       "      <th>DAY</th>\n",
       "      <th>MONTH</th>\n",
       "      <th>DAY_OF_WEEK</th>\n",
       "    </tr>\n",
       "  </thead>\n",
       "  <tbody>\n",
       "    <tr>\n",
       "      <th>0</th>\n",
       "      <td>4.379167</td>\n",
       "      <td>1</td>\n",
       "      <td>1</td>\n",
       "      <td>1</td>\n",
       "    </tr>\n",
       "    <tr>\n",
       "      <th>1</th>\n",
       "      <td>4.270833</td>\n",
       "      <td>2</td>\n",
       "      <td>1</td>\n",
       "      <td>2</td>\n",
       "    </tr>\n",
       "    <tr>\n",
       "      <th>2</th>\n",
       "      <td>4.179167</td>\n",
       "      <td>3</td>\n",
       "      <td>1</td>\n",
       "      <td>3</td>\n",
       "    </tr>\n",
       "    <tr>\n",
       "      <th>3</th>\n",
       "      <td>4.225000</td>\n",
       "      <td>4</td>\n",
       "      <td>1</td>\n",
       "      <td>4</td>\n",
       "    </tr>\n",
       "    <tr>\n",
       "      <th>4</th>\n",
       "      <td>4.175000</td>\n",
       "      <td>5</td>\n",
       "      <td>1</td>\n",
       "      <td>5</td>\n",
       "    </tr>\n",
       "  </tbody>\n",
       "</table>\n",
       "</div>"
      ],
      "text/plain": [
       "         CO  DAY  MONTH  DAY_OF_WEEK\n",
       "0  4.379167    1      1            1\n",
       "1  4.270833    2      1            2\n",
       "2  4.179167    3      1            3\n",
       "3  4.225000    4      1            4\n",
       "4  4.175000    5      1            5"
      ]
     },
     "execution_count": 44,
     "metadata": {},
     "output_type": "execute_result"
    }
   ],
   "source": [
    "df.head()"
   ]
  },
  {
   "cell_type": "code",
   "execution_count": 45,
   "id": "e7080d2b-48ea-4d49-878c-632024e04a8c",
   "metadata": {},
   "outputs": [],
   "source": [
    "# Define feature columns\n",
    "feature_cols = [\n",
    "    'DAY', 'MONTH', 'DAY_OF_WEEK'\n",
    "]\n",
    "\n",
    "X = df[feature_cols]\n",
    "y = df['CO']\n",
    "\n"
   ]
  },
  {
   "cell_type": "code",
   "execution_count": 50,
   "id": "bfbfe980-d4da-4f10-a6ca-d88c055d1570",
   "metadata": {},
   "outputs": [],
   "source": [
    "import mlflow\n",
    "\n",
    "mlflow.set_tracking_uri(\"https://legendary-dollop-7vr49x7r7v9pcxwrw-5000.app.github.dev/\")\n"
   ]
  },
  {
   "cell_type": "code",
   "execution_count": 51,
   "id": "7b320588-b0ce-49e3-9ff9-9aee3c223a77",
   "metadata": {},
   "outputs": [
    {
     "name": "stderr",
     "output_type": "stream",
     "text": [
      "2024/11/26 14:55:01 INFO mlflow.tracking.fluent: Experiment with name 'CO_Predict' does not exist. Creating a new experiment.\n"
     ]
    },
    {
     "data": {
      "text/plain": [
       "<Experiment: artifact_location='mlflow-artifacts:/artifacts/6', creation_time=1732632901301, experiment_id='6', last_update_time=1732632901301, lifecycle_stage='active', name='CO_Predict', tags={}>"
      ]
     },
     "execution_count": 51,
     "metadata": {},
     "output_type": "execute_result"
    }
   ],
   "source": [
    "mlflow.set_experiment(\"CO_Predict\")\n"
   ]
  },
  {
   "cell_type": "code",
   "execution_count": 52,
   "id": "00344500-590e-4366-96b5-d56365d48db8",
   "metadata": {},
   "outputs": [
    {
     "name": "stderr",
     "output_type": "stream",
     "text": [
      "2024/11/26 14:55:20 WARNING mlflow.utils.git_utils: Failed to import Git (the Git executable is probably not on your PATH), so Git SHA is not available. Error: Failed to initialize: Bad git executable.\n",
      "The git executable must be specified in one of the following ways:\n",
      "    - be included in your $PATH\n",
      "    - be set via $GIT_PYTHON_GIT_EXECUTABLE\n",
      "    - explicitly set via git.refresh(<full-path-to-git-executable>)\n",
      "\n",
      "All git commands will error until this is rectified.\n",
      "\n",
      "This initial message can be silenced or aggravated in the future by setting the\n",
      "$GIT_PYTHON_REFRESH environment variable. Use one of the following values:\n",
      "    - quiet|q|silence|s|silent|none|n|0: for no message or exception\n",
      "    - warn|w|warning|log|l|1: for a warning message (logging level CRITICAL, displayed by default)\n",
      "    - error|e|exception|raise|r|2: for a raised exception\n",
      "\n",
      "Example:\n",
      "    export GIT_PYTHON_REFRESH=quiet\n",
      "\n",
      "2024/11/26 14:55:25 WARNING mlflow.models.model: Model logged without a signature and input example. Please set `input_example` parameter when logging the model to auto infer the model signature.\n"
     ]
    },
    {
     "name": "stdout",
     "output_type": "stream",
     "text": [
      "Run ID: 3ff63f85ae5a447f95316d65e9328363\n",
      "Logged MAE: 0.03, RMSE: 0.03\n",
      "🏃 View run RandomForest_Regressor_Run at: https://legendary-dollop-7vr49x7r7v9pcxwrw-5000.app.github.dev/#/experiments/6/runs/3ff63f85ae5a447f95316d65e9328363\n",
      "🧪 View experiment at: https://legendary-dollop-7vr49x7r7v9pcxwrw-5000.app.github.dev/#/experiments/6\n"
     ]
    }
   ],
   "source": [
    "tscv = TimeSeriesSplit(n_splits=3)\n",
    "\n",
    "# Start MLflow Run\n",
    "with mlflow.start_run(run_name=\"RandomForest_Regressor_Run\") as run:\n",
    "    # Define and Train the Model\n",
    "    rf = RandomForestRegressor(n_estimators=200, max_depth=None, min_samples_split=2, random_state=42)\n",
    "    rf.fit(X, y)\n",
    "\n",
    "    # Predictions (Using the entire dataset for simplicity; consider using a separate test set)\n",
    "    predictions = rf.predict(X)\n",
    "\n",
    "    # Calculate Metrics\n",
    "    mae = mean_absolute_error(y, predictions)\n",
    "    rmse = np.sqrt(mean_squared_error(y, predictions))\n",
    "\n",
    "    # Log Parameters\n",
    "    mlflow.log_param(\"model\", \"RandomForestRegressor\")\n",
    "    mlflow.log_param(\"n_estimators\", 200)\n",
    "    mlflow.log_param(\"max_depth\", None)\n",
    "    mlflow.log_param(\"min_samples_split\", 2)\n",
    "    mlflow.log_param(\"random_state\", 42)\n",
    "\n",
    "    # Log Metrics\n",
    "    mlflow.log_metric(\"MAE\", mae)\n",
    "    mlflow.log_metric(\"RMSE\", rmse)\n",
    "\n",
    "    # Log the Model\n",
    "    mlflow.sklearn.log_model(rf, \"model\")\n",
    "\n",
    "    print(f\"Run ID: {run.info.run_id}\")\n",
    "    print(f\"Logged MAE: {mae:.2f}, RMSE: {rmse:.2f}\")"
   ]
  },
  {
   "cell_type": "code",
   "execution_count": 53,
   "id": "0438ec0c-a37c-4d67-bd56-3be44326b7b0",
   "metadata": {},
   "outputs": [
    {
     "name": "stderr",
     "output_type": "stream",
     "text": [
      "Successfully registered model 'CO_Predict'.\n",
      "2024/11/26 14:55:50 INFO mlflow.store.model_registry.abstract_store: Waiting up to 300 seconds for model version to finish creation. Model name: CO_Predict, version 1\n"
     ]
    },
    {
     "name": "stdout",
     "output_type": "stream",
     "text": [
      "Registered Model: CO_Predict, Version: 1\n"
     ]
    },
    {
     "name": "stderr",
     "output_type": "stream",
     "text": [
      "Created version '1' of model 'CO_Predict'.\n"
     ]
    }
   ],
   "source": [
    "# Get the Run ID from the previous step\n",
    "run_id = run.info.run_id\n",
    "\n",
    "# Register the model\n",
    "model_name = \"CO_Predict\"\n",
    "result = mlflow.register_model(\n",
    "    f\"runs:/{run_id}/model\",\n",
    "    model_name\n",
    ")\n",
    "\n",
    "print(f\"Registered Model: {result.name}, Version: {result.version}\")\n"
   ]
  },
  {
   "cell_type": "code",
   "execution_count": 54,
   "id": "3846b050-b239-4927-93c0-2cc608704b6a",
   "metadata": {},
   "outputs": [
    {
     "name": "stdout",
     "output_type": "stream",
     "text": [
      "Model CO_Predict version 1 transitioned to Staging.\n"
     ]
    },
    {
     "name": "stderr",
     "output_type": "stream",
     "text": [
      "/tmp/ipykernel_32/1892959298.py:6: FutureWarning: ``mlflow.tracking.client.MlflowClient.transition_model_version_stage`` is deprecated since 2.9.0. Model registry stages will be removed in a future major release. To learn more about the deprecation of model registry stages, see our migration guide here: https://mlflow.org/docs/latest/model-registry.html#migrating-from-stages\n",
      "  client.transition_model_version_stage(\n"
     ]
    }
   ],
   "source": [
    "from mlflow.tracking import MlflowClient\n",
    "\n",
    "client = MlflowClient()\n",
    "\n",
    "# Transition the model to 'Staging'\n",
    "client.transition_model_version_stage(\n",
    "    name=model_name,\n",
    "    version=result.version,\n",
    "    stage=\"Staging\",\n",
    "    archive_existing_versions=True\n",
    ")\n",
    "\n",
    "print(f\"Model {model_name} version {result.version} transitioned to Staging.\")\n"
   ]
  }
 ],
 "metadata": {
  "kernelspec": {
   "display_name": "Python 3 (ipykernel)",
   "language": "python",
   "name": "python3"
  },
  "language_info": {
   "codemirror_mode": {
    "name": "ipython",
    "version": 3
   },
   "file_extension": ".py",
   "mimetype": "text/x-python",
   "name": "python",
   "nbconvert_exporter": "python",
   "pygments_lexer": "ipython3",
   "version": "3.11.10"
  }
 },
 "nbformat": 4,
 "nbformat_minor": 5
}
