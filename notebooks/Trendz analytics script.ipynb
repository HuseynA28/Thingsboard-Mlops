{
 "cells": [
  {
   "cell_type": "code",
   "execution_count": null,
   "id": "d44d52c6-f33e-4fb1-8288-6e2abafba2f9",
   "metadata": {},
   "outputs": [],
   "source": [
    "### Simple Predication\n",
    "import pandas as pd\n",
    "import numpy as np\n",
    "from prophet import Prophet\n",
    "\n",
    "df = pd.DataFrame()\n",
    "df['ds'] = pd.to_datetime(input_x, unit='ms')\n",
    "df['y'] = np.array(input_y)\n",
    "\n",
    "model = Prophet()\n",
    "model.fit(df)\n",
    "\n",
    "future = pd.DataFrame()\n",
    "future['ds'] = pd.to_datetime(output_x, unit='ms')\n",
    "\n",
    "forecast = model.predict(future)\n",
    "output_y = forecast['yhat'].tolist()\n",
    "print(f\"result: {output_y}\")\n",
    "return output_y"
   ]
  },
  {
   "cell_type": "markdown",
   "id": "2f2bd4a8-8cee-416a-962b-e51201e42150",
   "metadata": {},
   "source": [
    "# Random Forest models"
   ]
  },
  {
   "cell_type": "code",
   "execution_count": 1,
   "id": "150d3cd3-42a0-43d5-aa3e-f407a0230cd6",
   "metadata": {},
   "outputs": [
    {
     "ename": "ModuleNotFoundError",
     "evalue": "No module named 'prophet'",
     "output_type": "error",
     "traceback": [
      "\u001b[0;31m---------------------------------------------------------------------------\u001b[0m",
      "\u001b[0;31mModuleNotFoundError\u001b[0m                       Traceback (most recent call last)",
      "Cell \u001b[0;32mIn[1], line 3\u001b[0m\n\u001b[1;32m      1\u001b[0m \u001b[38;5;28;01mimport\u001b[39;00m \u001b[38;5;21;01mpandas\u001b[39;00m \u001b[38;5;28;01mas\u001b[39;00m \u001b[38;5;21;01mpd\u001b[39;00m\n\u001b[1;32m      2\u001b[0m \u001b[38;5;28;01mimport\u001b[39;00m \u001b[38;5;21;01mnumpy\u001b[39;00m \u001b[38;5;28;01mas\u001b[39;00m \u001b[38;5;21;01mnp\u001b[39;00m\n\u001b[0;32m----> 3\u001b[0m \u001b[38;5;28;01mfrom\u001b[39;00m \u001b[38;5;21;01mprophet\u001b[39;00m \u001b[38;5;28;01mimport\u001b[39;00m Prophet\n\u001b[1;32m      4\u001b[0m \u001b[38;5;28;01mimport\u001b[39;00m \u001b[38;5;21;01mmlflow\u001b[39;00m\n\u001b[1;32m      5\u001b[0m \u001b[38;5;28;01mimport\u001b[39;00m \u001b[38;5;21;01mmlflow\u001b[39;00m\u001b[38;5;21;01m.\u001b[39;00m\u001b[38;5;21;01msklearn\u001b[39;00m\n",
      "\u001b[0;31mModuleNotFoundError\u001b[0m: No module named 'prophet'"
     ]
    }
   ],
   "source": [
    "import pandas as pd\n",
    "import numpy as np\n",
    "from prophet import Prophet\n",
    "import mlflow\n",
    "import mlflow.sklearn\n",
    "mlflow.set_tracking_uri(\"https://fuzzy-goldfish-r4rr46q4jp4jf5gv6-5000.app.github.dev/\")\n",
    "model_name = \"CO_Predict\"\n",
    "model_version = 1\n",
    "model = mlflow.sklearn.load_model(\n",
    "    model_uri=f\"models:/{model_name}/{model_version}\"\n",
    ")\n",
    "future = pd.DataFrame()\n",
    "future['ds'] = pd.to_datetime(output_x, unit='ms')\n",
    "future['DAY'] = future['ds'].dt.day\n",
    "future['MONTH'] = future['ds'].dt.month\n",
    "future['DAY_OF_WEEK'] = future['ds'].dt.dayofweek\n",
    "\n",
    "feature_cols = [\"DAY\", \"MONTH\", \"DAY_OF_WEEK\"]\n",
    "X_input = future[feature_cols]\n",
    "\n",
    "# Reshape input if necessary\n",
    "if len(X_input.shape) == 1:\n",
    "    X_input = X_input.values.reshape(1, -1)\n",
    "elif X_input.shape[0] == 1:\n",
    "    X_input = X_input.values.reshape(1, -1)\n",
    "elif X_input.shape[1] == 1:\n",
    "    X_input = X_input.values.reshape(-1, 1)\n",
    "\n",
    "# Make predictions\n",
    "predictions = model.predict(X_input)\n",
    "\n",
    "# Convert predictions to list\n",
    "if isinstance(predictions, pd.DataFrame):\n",
    "    output_y = predictions['yhat'].tolist()\n",
    "else:\n",
    "    output_y = predictions.tolist()\n",
    "\n",
    "return output_y"
   ]
  },
  {
   "cell_type": "markdown",
   "id": "d64180a2-5039-42d8-961d-7c73e92f99d4",
   "metadata": {},
   "source": [
    "# Time Series "
   ]
  },
  {
   "cell_type": "code",
   "execution_count": null,
   "id": "a0b0f1b7-cdb0-4289-b9ff-8eec6081ba31",
   "metadata": {},
   "outputs": [],
   "source": [
    "import pandas as pd\n",
    "import numpy as np\n",
    "import mlflow\n",
    "import mlflow.sklearn\n",
    "mlflow.set_tracking_uri(\"https://fuzzy-goldfish-r4rr46q4jp4jf5gv6-5000.app.github.dev/\")\n",
    "model_name = \"Time_Series_CO_Predict\"\n",
    "model_version = 1  \n",
    "model = mlflow.sklearn.load_model(\n",
    "    model_uri=f\"models:/{model_name}/{model_version}\"\n",
    ")\n",
    "input_y = input_y[-len(output_x):]\n",
    "df = pd.DataFrame({\n",
    "    'ds': pd.to_datetime(output_x, unit='ms'),\n",
    "    'CO': input_y\n",
    "})\n",
    "df['hour'] = df['ds'].dt.hour\n",
    "df['minute'] = df['ds'].dt.minute\n",
    "df['hour_sin'] = np.sin(2 * np.pi * df['hour'] / 24)\n",
    "df['hour_cos'] = np.cos(2 * np.pi * df['hour'] / 24)\n",
    "df['minute_sin'] = np.sin(2 * np.pi * df['minute'] / 60)\n",
    "df['minute_cos'] = np.cos(2 * np.pi * df['minute'] / 60)\n",
    "for lag in range(1, 4):\n",
    "    df[f'CO_lag_{lag}'] = df['CO'].shift(lag)\n",
    "df['CO_roll_mean_3'] = df['CO'].rolling(window=3).mean()\n",
    "df['CO_roll_std_3'] = df['CO'].rolling(window=3).std()\n",
    "\n",
    "feature_cols = [\n",
    "    'CO_lag_1', 'CO_lag_2', 'CO_lag_3',\n",
    "    'CO_roll_mean_3', 'CO_roll_std_3',\n",
    "    'hour_sin', 'hour_cos', 'minute_sin', 'minute_cos'\n",
    "]\n",
    "df_clean = df.dropna()\n",
    "X = df_clean[feature_cols]\n",
    "predictions = model.predict(X)\n",
    "if isinstance(predictions, pd.DataFrame):\n",
    "    output_y = predictions['yhat'].tolist()\n",
    "else:\n",
    "    output_y = predictions.tolist()\n",
    "num_dropped_rows = len(df) - len(df_clean)\n",
    "if num_dropped_rows > 0:\n",
    "    output_y = [None] * num_dropped_rows + output_y\n",
    "return output_y"
   ]
  },
  {
   "cell_type": "code",
   "execution_count": null,
   "id": "f1379c99-78f9-4453-9688-5f8322d1598c",
   "metadata": {},
   "outputs": [],
   "source": []
  },
  {
   "cell_type": "code",
   "execution_count": null,
   "id": "98b80608-f493-4f13-86ca-1fc53046f3b4",
   "metadata": {},
   "outputs": [],
   "source": []
  }
 ],
 "metadata": {
  "kernelspec": {
   "display_name": "Python 3 (ipykernel)",
   "language": "python",
   "name": "python3"
  },
  "language_info": {
   "codemirror_mode": {
    "name": "ipython",
    "version": 3
   },
   "file_extension": ".py",
   "mimetype": "text/x-python",
   "name": "python",
   "nbconvert_exporter": "python",
   "pygments_lexer": "ipython3",
   "version": "3.11.10"
  }
 },
 "nbformat": 4,
 "nbformat_minor": 5
}
