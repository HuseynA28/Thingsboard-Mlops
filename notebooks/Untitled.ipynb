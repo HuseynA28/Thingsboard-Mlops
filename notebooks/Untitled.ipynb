{
 "cells": [
  {
   "cell_type": "code",
   "execution_count": null,
   "id": "82dbbd2d-97ff-49ac-81de-82f3b537338a",
   "metadata": {},
   "outputs": [],
   "source": [
    "### Simple Predication\n",
    "import pandas as pd\n",
    "import numpy as np\n",
    "from prophet import Prophet\n",
    "\n",
    "df = pd.DataFrame()\n",
    "df['ds'] = pd.to_datetime(input_x, unit='ms')\n",
    "df['y'] = np.array(input_y)\n",
    "\n",
    "model = Prophet()\n",
    "model.fit(df)\n",
    "\n",
    "future = pd.DataFrame()\n",
    "future['ds'] = pd.to_datetime(output_x, unit='ms')\n",
    "\n",
    "forecast = model.predict(future)\n",
    "output_y = forecast['yhat'].tolist()\n",
    "print(f\"result: {output_y}\")\n",
    "return output_y"
   ]
  },
  {
   "cell_type": "code",
   "execution_count": null,
   "id": "150d3cd3-42a0-43d5-aa3e-f407a0230cd6",
   "metadata": {},
   "outputs": [],
   "source": []
  }
 ],
 "metadata": {
  "kernelspec": {
   "display_name": "Python 3 (ipykernel)",
   "language": "python",
   "name": "python3"
  },
  "language_info": {
   "codemirror_mode": {
    "name": "ipython",
    "version": 3
   },
   "file_extension": ".py",
   "mimetype": "text/x-python",
   "name": "python",
   "nbconvert_exporter": "python",
   "pygments_lexer": "ipython3",
   "version": "3.11.10"
  }
 },
 "nbformat": 4,
 "nbformat_minor": 5
}
